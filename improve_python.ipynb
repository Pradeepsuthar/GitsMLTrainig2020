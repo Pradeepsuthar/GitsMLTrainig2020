{
  "nbformat": 4,
  "nbformat_minor": 0,
  "metadata": {
    "colab": {
      "name": "improve_python.ipynb",
      "provenance": [],
      "collapsed_sections": [],
      "authorship_tag": "ABX9TyMx23BykbeDEnjxxUaoJXjc",
      "include_colab_link": true
    },
    "kernelspec": {
      "name": "python3",
      "display_name": "Python 3"
    }
  },
  "cells": [
    {
      "cell_type": "markdown",
      "metadata": {
        "id": "view-in-github",
        "colab_type": "text"
      },
      "source": [
        "<a href=\"https://colab.research.google.com/github/Pradeepsuthar/GitsMLTrainig2020/blob/master/improve_python.ipynb\" target=\"_parent\"><img src=\"https://colab.research.google.com/assets/colab-badge.svg\" alt=\"Open In Colab\"/></a>"
      ]
    },
    {
      "cell_type": "code",
      "metadata": {
        "id": "lEIk4lzCiaKg",
        "colab_type": "code",
        "colab": {
          "base_uri": "https://localhost:8080/",
          "height": 71
        },
        "outputId": "0380cecc-2c09-4dcd-d6a8-c4c2daa89eed"
      },
      "source": [
        "# data objects or dictionary\n",
        "data = {\n",
        "    'Mahendra suthar': (19,'1234567890','Dabok',313022),\n",
        "    'Pradeep suthar': (21,'8440077147','Udaipur',307022),\n",
        "    'Vishal suthar': (20,'0987654321','Pindwara',303122)\n",
        "}\n",
        "\n",
        "for name,(age,phone_no,address,pin) in data.items():\n",
        "  # print(\"Name : %s Age : %d Mobile No. : %s Address : %s,%d\"%(name,age,phone_no,address,pin))\n",
        "  print(\"%s is %d year old and his from %s,%d and his phone No. is %s.\"%(name,age,address,pin,phone_no))"
      ],
      "execution_count": 12,
      "outputs": [
        {
          "output_type": "stream",
          "text": [
            "Mahendra suthar is 19 year old and his from Dabok,313022 and his phone No. is 1234567890.\n",
            "Pradeep suthar is 21 year old and his from Udaipur,307022 and his phone No. is 8440077147.\n",
            "Vishal suthar is 20 year old and his from Pindwara,303122 and his phone No. is 0987654321.\n"
          ],
          "name": "stdout"
        }
      ]
    },
    {
      "cell_type": "code",
      "metadata": {
        "id": "kxYwzUFgkrpP",
        "colab_type": "code",
        "colab": {
          "base_uri": "https://localhost:8080/",
          "height": 35
        },
        "outputId": "e2b76ee5-a0f4-4ed7-c56d-d2a39283a6a2"
      },
      "source": [
        "for name,(age,phone_no,address,pin) in data.items():\n",
        "  if age == 21 and name.startswith('P') and pin == 307022:\n",
        "    # print(\"Name : %s Age : %d Mobile No. : %s Address : %s,%d\"%(name,age,phone_no,address,pin))\n",
        "    print(\"%s is %d year old and his from %s,%d and his phone No. is %s.\"%(name,age,address,pin,phone_no))"
      ],
      "execution_count": 16,
      "outputs": [
        {
          "output_type": "stream",
          "text": [
            "Pradeep suthar is 21 year old and his from Udaipur,307022 and his phone No. is 8440077147.\n"
          ],
          "name": "stdout"
        }
      ]
    },
    {
      "cell_type": "code",
      "metadata": {
        "id": "HmW8HaeSnMH6",
        "colab_type": "code",
        "colab": {
          "base_uri": "https://localhost:8080/",
          "height": 35
        },
        "outputId": "75cd6a1e-309b-442e-cca7-7c5c1388c945"
      },
      "source": [
        "for name,(age,phone_no,address,pin) in data.items():\n",
        "  if age != 21:\n",
        "    continue  \n",
        "  if not name.startswith('P'):\n",
        "    continue  \n",
        "  pin == 307022\n",
        "  print(\"%s is %d year old and his from %s,%d and his phone No. is %s.\"%(name,age,address,pin,phone_no))"
      ],
      "execution_count": 18,
      "outputs": [
        {
          "output_type": "stream",
          "text": [
            "Pradeep suthar is 21 year old and his from Udaipur,307022 and his phone No. is 8440077147.\n"
          ],
          "name": "stdout"
        }
      ]
    },
    {
      "cell_type": "code",
      "metadata": {
        "id": "vkOOwKyxogcZ",
        "colab_type": "code",
        "colab": {
          "base_uri": "https://localhost:8080/",
          "height": 53
        },
        "outputId": "a61fd906-6eea-4e98-ce77-2bc1a4d4a6ad"
      },
      "source": [
        "for name,(age,phone_no,address,pin) in data.items():\n",
        "  if address == 'Udaipur':\n",
        "    continue\n",
        "  print(\"%s is %d year old and his from %s,%d and his phone No. is %s.\"%(name,age,address,pin,phone_no))"
      ],
      "execution_count": 22,
      "outputs": [
        {
          "output_type": "stream",
          "text": [
            "Mahendra suthar is 19 year old and his from Dabok,313022 and his phone No. is 1234567890.\n",
            "Vishal suthar is 20 year old and his from Pindwara,303122 and his phone No. is 0987654321.\n"
          ],
          "name": "stdout"
        }
      ]
    },
    {
      "cell_type": "code",
      "metadata": {
        "id": "8ZawWBL5pFM7",
        "colab_type": "code",
        "colab": {
          "base_uri": "https://localhost:8080/",
          "height": 35
        },
        "outputId": "6d5c133c-c415-4402-a5c8-e5465281de3d"
      },
      "source": [
        "for name,(age,phone_no,address,pin) in data.items():\n",
        "  if address == 'Udaipur':\n",
        "    print(\"%s is %d year old and his from %s,%d and his phone No. is %s.\"%(name,age,address,pin,phone_no))"
      ],
      "execution_count": 24,
      "outputs": [
        {
          "output_type": "stream",
          "text": [
            "Pradeep suthar is 21 year old and his from Udaipur,307022 and his phone No. is 8440077147.\n"
          ],
          "name": "stdout"
        }
      ]
    },
    {
      "cell_type": "code",
      "metadata": {
        "id": "z8cmvCeJpf9k",
        "colab_type": "code",
        "colab": {
          "base_uri": "https://localhost:8080/",
          "height": 71
        },
        "outputId": "cf996a85-bbd4-40f7-b714-894967f5449f"
      },
      "source": [
        "print(\"Search your name in dic obj.\")\n",
        "sname = input(\"Enter name : \")\n",
        "\n",
        "for name,(age,phone_no,address,pin) in data.items():\n",
        "  name = name.lower()\n",
        "  sname = sname.lower()\n",
        "  if name.startswith(sname):\n",
        "    name = name.title()\n",
        "    sname = sname.title()\n",
        "    print(\"%s is %d year old and his from %s,%d and his phone No. is %s.\"%(name,age,address,pin,phone_no))\n",
        "    break\n",
        "else:\n",
        "  print(\"Not found\")"
      ],
      "execution_count": 90,
      "outputs": [
        {
          "output_type": "stream",
          "text": [
            "Search your name in dic obj.\n",
            "Enter name : pradeep\n",
            "Pradeep Suthar is 21 year old and his from Udaipur,307022 and his phone No. is 8440077147.\n"
          ],
          "name": "stdout"
        }
      ]
    },
    {
      "cell_type": "code",
      "metadata": {
        "id": "lC4PhbHDqE-l",
        "colab_type": "code",
        "colab": {
          "base_uri": "https://localhost:8080/",
          "height": 143
        },
        "outputId": "6c1c6f2c-c378-47c6-c986-3f7cf92d0bc1"
      },
      "source": [
        "i = iter(data)\n",
        "\n",
        "while True:\n",
        "  try:\n",
        "    name = next(i)\n",
        "  except StopIteration:\n",
        "    break\n",
        "  print(name)\n",
        "\n",
        "print()\n",
        "\n",
        "for name in data:\n",
        "  print(name)"
      ],
      "execution_count": 51,
      "outputs": [
        {
          "output_type": "stream",
          "text": [
            "Mahendra suthar\n",
            "Pradeep suthar\n",
            "Vishal suthar\n",
            "\n",
            "Mahendra suthar\n",
            "Pradeep suthar\n",
            "Vishal suthar\n"
          ],
          "name": "stdout"
        }
      ]
    },
    {
      "cell_type": "code",
      "metadata": {
        "id": "Z4Xv3ZBUuAnk",
        "colab_type": "code",
        "colab": {
          "base_uri": "https://localhost:8080/",
          "height": 35
        },
        "outputId": "582767ff-59a1-4e9b-dd92-093c624c7996"
      },
      "source": [
        "a = 10\n",
        "b = 20\n",
        "\n",
        "if a == 10 or b == 20:\n",
        "  print(\"True\")\n",
        "else:\n",
        "  print(\"False\")"
      ],
      "execution_count": 59,
      "outputs": [
        {
          "output_type": "stream",
          "text": [
            "True\n"
          ],
          "name": "stdout"
        }
      ]
    },
    {
      "cell_type": "code",
      "metadata": {
        "id": "aVfalXF24ydG",
        "colab_type": "code",
        "colab": {
          "base_uri": "https://localhost:8080/",
          "height": 53
        },
        "outputId": "b7299178-5d28-43de-c0c2-4ed69760d00a"
      },
      "source": [
        "# isinstance()\n",
        "a = 10.0\n",
        "\n",
        "print(\"a is int ?\",isinstance(a,int))\n",
        "print(\"a is float ?\",isinstance(a,float))"
      ],
      "execution_count": 65,
      "outputs": [
        {
          "output_type": "stream",
          "text": [
            "a is int ? False\n",
            "a is float ? True\n"
          ],
          "name": "stdout"
        }
      ]
    },
    {
      "cell_type": "code",
      "metadata": {
        "id": "X613LN2cEUpv",
        "colab_type": "code",
        "colab": {
          "base_uri": "https://localhost:8080/",
          "height": 251
        },
        "outputId": "d3d3fd84-e7d1-4949-c2cd-d41fe789220f"
      },
      "source": [
        "# Random values\n",
        "from random import randint\n",
        "for i in range(100000000):\n",
        "  random_no = randint(1000000000,9000000000)\n",
        "  number = str(random_no)\n",
        "  if number.startswith('8440077'):\n",
        "    print(random_no)"
      ],
      "execution_count": 289,
      "outputs": [
        {
          "output_type": "stream",
          "text": [
            "8440077668\n",
            "8440077868\n",
            "8440077991\n",
            "8440077841\n",
            "8440077089\n",
            "8440077356\n",
            "8440077015\n",
            "8440077144\n",
            "8440077979\n",
            "8440077132\n",
            "8440077975\n",
            "8440077245\n",
            "8440077900\n"
          ],
          "name": "stdout"
        }
      ]
    },
    {
      "cell_type": "code",
      "metadata": {
        "id": "vc6bSp0vJeBT",
        "colab_type": "code",
        "colab": {
          "base_uri": "https://localhost:8080/",
          "height": 197
        },
        "outputId": "51cee719-5f3f-4484-aaf8-d9211c8138c7"
      },
      "source": [
        "# india's random mobile telephone numbers\n",
        "from random import randint\n",
        "\n",
        "random_no = randint(10,100)\n",
        "\n",
        "for i in range(1000):\n",
        "  random_no = randint(1000000000,10000000000)\n",
        "  number = str(random_no)\n",
        "  first_no = str(randint(90,99))\n",
        "  if number.startswith(first_no):\n",
        "    print(random_no)"
      ],
      "execution_count": 219,
      "outputs": [
        {
          "output_type": "stream",
          "text": [
            "9833495759\n",
            "9075224363\n",
            "9159248199\n",
            "9149365453\n",
            "9283755470\n",
            "9008893733\n",
            "9918373536\n",
            "9459126625\n",
            "9681829848\n",
            "9602657358\n"
          ],
          "name": "stdout"
        }
      ]
    },
    {
      "cell_type": "code",
      "metadata": {
        "id": "kSz23wjtLQq9",
        "colab_type": "code",
        "colab": {
          "base_uri": "https://localhost:8080/",
          "height": 197
        },
        "outputId": "924f2647-9129-4bc7-8039-64a1d8f9d3ce"
      },
      "source": [
        "from random import randint\n",
        "\n",
        "for i in range(10):\n",
        "  first_no = randint(90,99)\n",
        "  print(first_no)"
      ],
      "execution_count": 226,
      "outputs": [
        {
          "output_type": "stream",
          "text": [
            "97\n",
            "96\n",
            "93\n",
            "96\n",
            "99\n",
            "96\n",
            "94\n",
            "90\n",
            "92\n",
            "93\n"
          ],
          "name": "stdout"
        }
      ]
    },
    {
      "cell_type": "code",
      "metadata": {
        "id": "mEHBxxCNNF2h",
        "colab_type": "code",
        "colab": {
          "base_uri": "https://localhost:8080/",
          "height": 35
        },
        "outputId": "01834945-45c2-4a35-c53d-50f05ffb84f5"
      },
      "source": [
        "# List\n",
        "contact = [8440077147,\n",
        "        9414449529,\n",
        "        7976501189,\n",
        "        9833495759,\n",
        "        9075224363,\n",
        "        9159248199,\n",
        "        9149365453,\n",
        "        9283755470,\n",
        "        9008893733,\n",
        "        9918373536,\n",
        "        9459126625,\n",
        "        9681829848,\n",
        "        9602657358\n",
        "      ]\n",
        "\n",
        "myPh = 9414449529\n",
        "\n",
        "l = []\n",
        "\n",
        "for ph in contact:\n",
        "  if ph == myPh:\n",
        "    continue\n",
        "  l.append(ph)\n",
        "print(\"Contact No.:\",l)\n",
        "\n",
        "\n"
      ],
      "execution_count": 251,
      "outputs": [
        {
          "output_type": "stream",
          "text": [
            "Contact No.: [8440077147, 7976501189, 9833495759, 9075224363, 9159248199, 9149365453, 9283755470, 9008893733, 9918373536, 9459126625, 9681829848, 9602657358]\n"
          ],
          "name": "stdout"
        }
      ]
    },
    {
      "cell_type": "code",
      "metadata": {
        "id": "x2XAVnuYTvHO",
        "colab_type": "code",
        "colab": {}
      },
      "source": [
        ""
      ],
      "execution_count": 0,
      "outputs": []
    },
    {
      "cell_type": "code",
      "metadata": {
        "id": "7F7VrXxPZAyR",
        "colab_type": "code",
        "colab": {
          "base_uri": "https://localhost:8080/",
          "height": 71
        },
        "outputId": "06437971-7539-4ece-89f7-da40f0998576"
      },
      "source": [
        "# all combinations of 2 list\n",
        "xcoor = [0,1,2]\n",
        "ycoor = [-2,-1,0]\n",
        "\n",
        "l = []\n",
        "for x in xcoor:\n",
        "    for y in ycoor:\n",
        "        l.append( (x, y) )\n",
        "print(l)\n",
        "\n",
        "# or \n",
        "print()\n",
        "\n",
        "print([(x, y) for x in xcoor for y in ycoor])\n"
      ],
      "execution_count": 270,
      "outputs": [
        {
          "output_type": "stream",
          "text": [
            "[(0, -2), (0, -1), (0, 0), (1, -2), (1, -1), (1, 0), (2, -2), (2, -1), (2, 0)]\n",
            "\n",
            "[(0, -2), (0, -1), (0, 0), (1, -2), (1, -1), (1, 0), (2, -2), (2, -1), (2, 0)]\n"
          ],
          "name": "stdout"
        }
      ]
    },
    {
      "cell_type": "code",
      "metadata": {
        "id": "EO-Dc2SKqBJP",
        "colab_type": "code",
        "colab": {
          "base_uri": "https://localhost:8080/",
          "height": 181
        },
        "outputId": "a4eb3b47-0c9e-46d7-d54b-f0bf34f687b6"
      },
      "source": [
        "import json\n",
        "data = {\n",
        "    'Mahendra suthar': (19,'1234567890','Dabok',313022),\n",
        "    'Pradeep suthar': (21,'8440077147','Udaipur',307022),\n",
        "    'Vishal suthar': (20,'0987654321','Pindwara',303122)\n",
        "}\n",
        "print(\"Type :\",type(data))\n",
        "print(\"List :\",list(data))\n",
        "print(\"Set :\",set(data))\n",
        "print(\"Length :\",len(data))\n",
        "strData = json.dumps(data)\n",
        "jsonData = json.loads(jsonData)\n",
        "print(\"Json :\",jsonData)\n",
        "print(\"Type of json data \",type(jsonData))\n",
        "print(\"Str :\",strData)\n",
        "print(\"Type of str data \",type(strData))"
      ],
      "execution_count": 268,
      "outputs": [
        {
          "output_type": "stream",
          "text": [
            "Type : <class 'dict'>\n",
            "List : ['Mahendra suthar', 'Pradeep suthar', 'Vishal suthar']\n",
            "Set : {'Vishal suthar', 'Pradeep suthar', 'Mahendra suthar'}\n",
            "Length : 3\n",
            "Json : {'Mahendra suthar': [19, '1234567890', 'Dabok', 313022], 'Pradeep suthar': [21, '8440077147', 'Udaipur', 307022], 'Vishal suthar': [20, '0987654321', 'Pindwara', 303122]}\n",
            "Type of json data  <class 'dict'>\n",
            "Str : {\"Mahendra suthar\": [19, \"1234567890\", \"Dabok\", 313022], \"Pradeep suthar\": [21, \"8440077147\", \"Udaipur\", 307022], \"Vishal suthar\": [20, \"0987654321\", \"Pindwara\", 303122]}\n",
            "Type of str data  <class 'str'>\n"
          ],
          "name": "stdout"
        }
      ]
    },
    {
      "cell_type": "code",
      "metadata": {
        "id": "Rxwk8cfvtlAn",
        "colab_type": "code",
        "colab": {
          "base_uri": "https://localhost:8080/",
          "height": 163
        },
        "outputId": "07b6e296-bf67-43a6-dfc2-781629696bd0"
      },
      "source": [
        "# 2 list\n",
        "a1 = [0,1,2,3,4,5]\n",
        "a2 = [2,4,7,4,1,3]\n",
        "\n",
        "l = []\n",
        "for x in a1:\n",
        "    for y in a2:\n",
        "      if x == y:\n",
        "        l.append( (x, y) )\n",
        "print(l)\n",
        "print(\"\\nTotal combinations :\",len(l))\n",
        "\n",
        "# or \n",
        "print()\n",
        "\n",
        "print([(x, y) for x in a1 for y in a2])\n",
        "\n",
        "print(\"\\nTotal combinations :\",len([(x, y) for x in a1 for y in a2]))"
      ],
      "execution_count": 280,
      "outputs": [
        {
          "output_type": "stream",
          "text": [
            "[(1, 1), (2, 2), (3, 3), (4, 4), (4, 4)]\n",
            "\n",
            "Total combinations : 5\n",
            "\n",
            "[(0, 2), (0, 4), (0, 7), (0, 4), (0, 1), (0, 3), (1, 2), (1, 4), (1, 7), (1, 4), (1, 1), (1, 3), (2, 2), (2, 4), (2, 7), (2, 4), (2, 1), (2, 3), (3, 2), (3, 4), (3, 7), (3, 4), (3, 1), (3, 3), (4, 2), (4, 4), (4, 7), (4, 4), (4, 1), (4, 3), (5, 2), (5, 4), (5, 7), (5, 4), (5, 1), (5, 3)]\n",
            "\n",
            "Total combinations : 36\n"
          ],
          "name": "stdout"
        }
      ]
    },
    {
      "cell_type": "code",
      "metadata": {
        "id": "UtaZZA5XvcJv",
        "colab_type": "code",
        "colab": {
          "base_uri": "https://localhost:8080/",
          "height": 1000
        },
        "outputId": "efb107bf-3b98-40c3-ff17-4435ea6a2784"
      },
      "source": [
        "city1 = ['udaipur','jaipur','jodhapur','kota','mumbai','delhi','goa','singapur','bengaluru']\n",
        "city2 = ['udaipur','jaipur','jodhapur','kota','mumbai','delhi','goa','singapur','bengaluru']\n",
        "print([(x, y) for x in city1 for y in city2])\n",
        "\n",
        "print(\"\\nTotal combinations :\",len([(x, y) for x in city1 for y in city2]))\n",
        "\n",
        "combo = [(x, y) for x in city1 for y in city2]\n",
        "\n",
        "for i in combo:\n",
        "  print(i)"
      ],
      "execution_count": 288,
      "outputs": [
        {
          "output_type": "stream",
          "text": [
            "[('udaipur', 'udaipur'), ('udaipur', 'jaipur'), ('udaipur', 'jodhapur'), ('udaipur', 'kota'), ('udaipur', 'mumbai'), ('udaipur', 'delhi'), ('udaipur', 'goa'), ('udaipur', 'singapur'), ('udaipur', 'bengaluru'), ('jaipur', 'udaipur'), ('jaipur', 'jaipur'), ('jaipur', 'jodhapur'), ('jaipur', 'kota'), ('jaipur', 'mumbai'), ('jaipur', 'delhi'), ('jaipur', 'goa'), ('jaipur', 'singapur'), ('jaipur', 'bengaluru'), ('jodhapur', 'udaipur'), ('jodhapur', 'jaipur'), ('jodhapur', 'jodhapur'), ('jodhapur', 'kota'), ('jodhapur', 'mumbai'), ('jodhapur', 'delhi'), ('jodhapur', 'goa'), ('jodhapur', 'singapur'), ('jodhapur', 'bengaluru'), ('kota', 'udaipur'), ('kota', 'jaipur'), ('kota', 'jodhapur'), ('kota', 'kota'), ('kota', 'mumbai'), ('kota', 'delhi'), ('kota', 'goa'), ('kota', 'singapur'), ('kota', 'bengaluru'), ('mumbai', 'udaipur'), ('mumbai', 'jaipur'), ('mumbai', 'jodhapur'), ('mumbai', 'kota'), ('mumbai', 'mumbai'), ('mumbai', 'delhi'), ('mumbai', 'goa'), ('mumbai', 'singapur'), ('mumbai', 'bengaluru'), ('delhi', 'udaipur'), ('delhi', 'jaipur'), ('delhi', 'jodhapur'), ('delhi', 'kota'), ('delhi', 'mumbai'), ('delhi', 'delhi'), ('delhi', 'goa'), ('delhi', 'singapur'), ('delhi', 'bengaluru'), ('goa', 'udaipur'), ('goa', 'jaipur'), ('goa', 'jodhapur'), ('goa', 'kota'), ('goa', 'mumbai'), ('goa', 'delhi'), ('goa', 'goa'), ('goa', 'singapur'), ('goa', 'bengaluru'), ('singapur', 'udaipur'), ('singapur', 'jaipur'), ('singapur', 'jodhapur'), ('singapur', 'kota'), ('singapur', 'mumbai'), ('singapur', 'delhi'), ('singapur', 'goa'), ('singapur', 'singapur'), ('singapur', 'bengaluru'), ('bengaluru', 'udaipur'), ('bengaluru', 'jaipur'), ('bengaluru', 'jodhapur'), ('bengaluru', 'kota'), ('bengaluru', 'mumbai'), ('bengaluru', 'delhi'), ('bengaluru', 'goa'), ('bengaluru', 'singapur'), ('bengaluru', 'bengaluru')]\n",
            "\n",
            "Total combinations : 81\n",
            "('udaipur', 'udaipur')\n",
            "('udaipur', 'jaipur')\n",
            "('udaipur', 'jodhapur')\n",
            "('udaipur', 'kota')\n",
            "('udaipur', 'mumbai')\n",
            "('udaipur', 'delhi')\n",
            "('udaipur', 'goa')\n",
            "('udaipur', 'singapur')\n",
            "('udaipur', 'bengaluru')\n",
            "('jaipur', 'udaipur')\n",
            "('jaipur', 'jaipur')\n",
            "('jaipur', 'jodhapur')\n",
            "('jaipur', 'kota')\n",
            "('jaipur', 'mumbai')\n",
            "('jaipur', 'delhi')\n",
            "('jaipur', 'goa')\n",
            "('jaipur', 'singapur')\n",
            "('jaipur', 'bengaluru')\n",
            "('jodhapur', 'udaipur')\n",
            "('jodhapur', 'jaipur')\n",
            "('jodhapur', 'jodhapur')\n",
            "('jodhapur', 'kota')\n",
            "('jodhapur', 'mumbai')\n",
            "('jodhapur', 'delhi')\n",
            "('jodhapur', 'goa')\n",
            "('jodhapur', 'singapur')\n",
            "('jodhapur', 'bengaluru')\n",
            "('kota', 'udaipur')\n",
            "('kota', 'jaipur')\n",
            "('kota', 'jodhapur')\n",
            "('kota', 'kota')\n",
            "('kota', 'mumbai')\n",
            "('kota', 'delhi')\n",
            "('kota', 'goa')\n",
            "('kota', 'singapur')\n",
            "('kota', 'bengaluru')\n",
            "('mumbai', 'udaipur')\n",
            "('mumbai', 'jaipur')\n",
            "('mumbai', 'jodhapur')\n",
            "('mumbai', 'kota')\n",
            "('mumbai', 'mumbai')\n",
            "('mumbai', 'delhi')\n",
            "('mumbai', 'goa')\n",
            "('mumbai', 'singapur')\n",
            "('mumbai', 'bengaluru')\n",
            "('delhi', 'udaipur')\n",
            "('delhi', 'jaipur')\n",
            "('delhi', 'jodhapur')\n",
            "('delhi', 'kota')\n",
            "('delhi', 'mumbai')\n",
            "('delhi', 'delhi')\n",
            "('delhi', 'goa')\n",
            "('delhi', 'singapur')\n",
            "('delhi', 'bengaluru')\n",
            "('goa', 'udaipur')\n",
            "('goa', 'jaipur')\n",
            "('goa', 'jodhapur')\n",
            "('goa', 'kota')\n",
            "('goa', 'mumbai')\n",
            "('goa', 'delhi')\n",
            "('goa', 'goa')\n",
            "('goa', 'singapur')\n",
            "('goa', 'bengaluru')\n",
            "('singapur', 'udaipur')\n",
            "('singapur', 'jaipur')\n",
            "('singapur', 'jodhapur')\n",
            "('singapur', 'kota')\n",
            "('singapur', 'mumbai')\n",
            "('singapur', 'delhi')\n",
            "('singapur', 'goa')\n",
            "('singapur', 'singapur')\n",
            "('singapur', 'bengaluru')\n",
            "('bengaluru', 'udaipur')\n",
            "('bengaluru', 'jaipur')\n",
            "('bengaluru', 'jodhapur')\n",
            "('bengaluru', 'kota')\n",
            "('bengaluru', 'mumbai')\n",
            "('bengaluru', 'delhi')\n",
            "('bengaluru', 'goa')\n",
            "('bengaluru', 'singapur')\n",
            "('bengaluru', 'bengaluru')\n"
          ],
          "name": "stdout"
        }
      ]
    },
    {
      "cell_type": "code",
      "metadata": {
        "id": "qJm1rdNpxLeq",
        "colab_type": "code",
        "colab": {
          "base_uri": "https://localhost:8080/",
          "height": 1000
        },
        "outputId": "d00a2aab-e529-426e-ba2c-93b46c7eaec4"
      },
      "source": [
        "import itertools\n",
        "\n",
        "p = itertools.product(city1, city2)\n",
        "cities = list(p)\n",
        "\n",
        "for i in cities:\n",
        "  print(i)"
      ],
      "execution_count": 286,
      "outputs": [
        {
          "output_type": "stream",
          "text": [
            "('udaipur', 'udaipur')\n",
            "('udaipur', 'jaipur')\n",
            "('udaipur', 'jodhapur')\n",
            "('udaipur', 'kota')\n",
            "('udaipur', 'mumbai')\n",
            "('udaipur', 'delhi')\n",
            "('udaipur', 'goa')\n",
            "('udaipur', 'singapur')\n",
            "('udaipur', 'bengaluru')\n",
            "('jaipur', 'udaipur')\n",
            "('jaipur', 'jaipur')\n",
            "('jaipur', 'jodhapur')\n",
            "('jaipur', 'kota')\n",
            "('jaipur', 'mumbai')\n",
            "('jaipur', 'delhi')\n",
            "('jaipur', 'goa')\n",
            "('jaipur', 'singapur')\n",
            "('jaipur', 'bengaluru')\n",
            "('jodhapur', 'udaipur')\n",
            "('jodhapur', 'jaipur')\n",
            "('jodhapur', 'jodhapur')\n",
            "('jodhapur', 'kota')\n",
            "('jodhapur', 'mumbai')\n",
            "('jodhapur', 'delhi')\n",
            "('jodhapur', 'goa')\n",
            "('jodhapur', 'singapur')\n",
            "('jodhapur', 'bengaluru')\n",
            "('kota', 'udaipur')\n",
            "('kota', 'jaipur')\n",
            "('kota', 'jodhapur')\n",
            "('kota', 'kota')\n",
            "('kota', 'mumbai')\n",
            "('kota', 'delhi')\n",
            "('kota', 'goa')\n",
            "('kota', 'singapur')\n",
            "('kota', 'bengaluru')\n",
            "('mumbai', 'udaipur')\n",
            "('mumbai', 'jaipur')\n",
            "('mumbai', 'jodhapur')\n",
            "('mumbai', 'kota')\n",
            "('mumbai', 'mumbai')\n",
            "('mumbai', 'delhi')\n",
            "('mumbai', 'goa')\n",
            "('mumbai', 'singapur')\n",
            "('mumbai', 'bengaluru')\n",
            "('delhi', 'udaipur')\n",
            "('delhi', 'jaipur')\n",
            "('delhi', 'jodhapur')\n",
            "('delhi', 'kota')\n",
            "('delhi', 'mumbai')\n",
            "('delhi', 'delhi')\n",
            "('delhi', 'goa')\n",
            "('delhi', 'singapur')\n",
            "('delhi', 'bengaluru')\n",
            "('goa', 'udaipur')\n",
            "('goa', 'jaipur')\n",
            "('goa', 'jodhapur')\n",
            "('goa', 'kota')\n",
            "('goa', 'mumbai')\n",
            "('goa', 'delhi')\n",
            "('goa', 'goa')\n",
            "('goa', 'singapur')\n",
            "('goa', 'bengaluru')\n",
            "('singapur', 'udaipur')\n",
            "('singapur', 'jaipur')\n",
            "('singapur', 'jodhapur')\n",
            "('singapur', 'kota')\n",
            "('singapur', 'mumbai')\n",
            "('singapur', 'delhi')\n",
            "('singapur', 'goa')\n",
            "('singapur', 'singapur')\n",
            "('singapur', 'bengaluru')\n",
            "('bengaluru', 'udaipur')\n",
            "('bengaluru', 'jaipur')\n",
            "('bengaluru', 'jodhapur')\n",
            "('bengaluru', 'kota')\n",
            "('bengaluru', 'mumbai')\n",
            "('bengaluru', 'delhi')\n",
            "('bengaluru', 'goa')\n",
            "('bengaluru', 'singapur')\n",
            "('bengaluru', 'bengaluru')\n"
          ],
          "name": "stdout"
        }
      ]
    }
  ]
}